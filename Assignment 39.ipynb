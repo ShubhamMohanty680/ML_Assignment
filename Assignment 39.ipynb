{
 "cells": [
  {
   "cell_type": "markdown",
   "id": "b8fed415",
   "metadata": {},
   "source": [
    "### 1. Load dataset"
   ]
  },
  {
   "cell_type": "code",
   "execution_count": 1,
   "id": "babedcff",
   "metadata": {},
   "outputs": [
    {
     "data": {
      "text/html": [
       "<div>\n",
       "<style scoped>\n",
       "    .dataframe tbody tr th:only-of-type {\n",
       "        vertical-align: middle;\n",
       "    }\n",
       "\n",
       "    .dataframe tbody tr th {\n",
       "        vertical-align: top;\n",
       "    }\n",
       "\n",
       "    .dataframe thead th {\n",
       "        text-align: right;\n",
       "    }\n",
       "</style>\n",
       "<table border=\"1\" class=\"dataframe\">\n",
       "  <thead>\n",
       "    <tr style=\"text-align: right;\">\n",
       "      <th></th>\n",
       "      <th>0</th>\n",
       "      <th>1</th>\n",
       "      <th>2</th>\n",
       "      <th>3</th>\n",
       "      <th>4</th>\n",
       "      <th>5</th>\n",
       "      <th>6</th>\n",
       "      <th>7</th>\n",
       "      <th>8</th>\n",
       "      <th>9</th>\n",
       "      <th>10</th>\n",
       "      <th>11</th>\n",
       "      <th>12</th>\n",
       "      <th>13</th>\n",
       "    </tr>\n",
       "  </thead>\n",
       "  <tbody>\n",
       "    <tr>\n",
       "      <th>0</th>\n",
       "      <td>1</td>\n",
       "      <td>14.23</td>\n",
       "      <td>1.71</td>\n",
       "      <td>2.43</td>\n",
       "      <td>15.6</td>\n",
       "      <td>127</td>\n",
       "      <td>2.80</td>\n",
       "      <td>3.06</td>\n",
       "      <td>0.28</td>\n",
       "      <td>2.29</td>\n",
       "      <td>5.64</td>\n",
       "      <td>1.04</td>\n",
       "      <td>3.92</td>\n",
       "      <td>1065</td>\n",
       "    </tr>\n",
       "    <tr>\n",
       "      <th>1</th>\n",
       "      <td>1</td>\n",
       "      <td>13.20</td>\n",
       "      <td>1.78</td>\n",
       "      <td>2.14</td>\n",
       "      <td>11.2</td>\n",
       "      <td>100</td>\n",
       "      <td>2.65</td>\n",
       "      <td>2.76</td>\n",
       "      <td>0.26</td>\n",
       "      <td>1.28</td>\n",
       "      <td>4.38</td>\n",
       "      <td>1.05</td>\n",
       "      <td>3.40</td>\n",
       "      <td>1050</td>\n",
       "    </tr>\n",
       "    <tr>\n",
       "      <th>2</th>\n",
       "      <td>1</td>\n",
       "      <td>13.16</td>\n",
       "      <td>2.36</td>\n",
       "      <td>2.67</td>\n",
       "      <td>18.6</td>\n",
       "      <td>101</td>\n",
       "      <td>2.80</td>\n",
       "      <td>3.24</td>\n",
       "      <td>0.30</td>\n",
       "      <td>2.81</td>\n",
       "      <td>5.68</td>\n",
       "      <td>1.03</td>\n",
       "      <td>3.17</td>\n",
       "      <td>1185</td>\n",
       "    </tr>\n",
       "    <tr>\n",
       "      <th>3</th>\n",
       "      <td>1</td>\n",
       "      <td>14.37</td>\n",
       "      <td>1.95</td>\n",
       "      <td>2.50</td>\n",
       "      <td>16.8</td>\n",
       "      <td>113</td>\n",
       "      <td>3.85</td>\n",
       "      <td>3.49</td>\n",
       "      <td>0.24</td>\n",
       "      <td>2.18</td>\n",
       "      <td>7.80</td>\n",
       "      <td>0.86</td>\n",
       "      <td>3.45</td>\n",
       "      <td>1480</td>\n",
       "    </tr>\n",
       "    <tr>\n",
       "      <th>4</th>\n",
       "      <td>1</td>\n",
       "      <td>13.24</td>\n",
       "      <td>2.59</td>\n",
       "      <td>2.87</td>\n",
       "      <td>21.0</td>\n",
       "      <td>118</td>\n",
       "      <td>2.80</td>\n",
       "      <td>2.69</td>\n",
       "      <td>0.39</td>\n",
       "      <td>1.82</td>\n",
       "      <td>4.32</td>\n",
       "      <td>1.04</td>\n",
       "      <td>2.93</td>\n",
       "      <td>735</td>\n",
       "    </tr>\n",
       "  </tbody>\n",
       "</table>\n",
       "</div>"
      ],
      "text/plain": [
       "   0      1     2     3     4    5     6     7     8     9     10    11    12  \\\n",
       "0   1  14.23  1.71  2.43  15.6  127  2.80  3.06  0.28  2.29  5.64  1.04  3.92   \n",
       "1   1  13.20  1.78  2.14  11.2  100  2.65  2.76  0.26  1.28  4.38  1.05  3.40   \n",
       "2   1  13.16  2.36  2.67  18.6  101  2.80  3.24  0.30  2.81  5.68  1.03  3.17   \n",
       "3   1  14.37  1.95  2.50  16.8  113  3.85  3.49  0.24  2.18  7.80  0.86  3.45   \n",
       "4   1  13.24  2.59  2.87  21.0  118  2.80  2.69  0.39  1.82  4.32  1.04  2.93   \n",
       "\n",
       "     13  \n",
       "0  1065  \n",
       "1  1050  \n",
       "2  1185  \n",
       "3  1480  \n",
       "4   735  "
      ]
     },
     "execution_count": 1,
     "metadata": {},
     "output_type": "execute_result"
    }
   ],
   "source": [
    "# Load the dataset\n",
    "import pandas as pd\n",
    "df=pd.read_csv('wine.data',sep=',',header=None)\n",
    "df.head()"
   ]
  },
  {
   "cell_type": "markdown",
   "id": "4e8727e4",
   "metadata": {},
   "source": [
    "### 2. Split into features and target variables"
   ]
  },
  {
   "cell_type": "code",
   "execution_count": 2,
   "id": "2733a4a6",
   "metadata": {},
   "outputs": [],
   "source": [
    "y = df.pop(0)\n",
    "x = df"
   ]
  },
  {
   "cell_type": "code",
   "execution_count": 3,
   "id": "a893230d",
   "metadata": {},
   "outputs": [],
   "source": [
    "from sklearn.model_selection import train_test_split\n",
    "x_train, x_test, y_train, y_test = train_test_split(x, y, test_size=0.1, random_state=24)"
   ]
  },
  {
   "cell_type": "markdown",
   "id": "25bd69bc",
   "metadata": {},
   "source": [
    "### 3. Perform data preprocessing"
   ]
  },
  {
   "cell_type": "code",
   "execution_count": 4,
   "id": "f693d9cb",
   "metadata": {},
   "outputs": [],
   "source": [
    "from sklearn.preprocessing import StandardScaler\n",
    "scaler=StandardScaler()\n",
    "x_train=scaler.fit_transform(x_train)\n",
    "x_test=scaler.transform(x_test)"
   ]
  },
  {
   "cell_type": "code",
   "execution_count": 5,
   "id": "baac1c5e",
   "metadata": {},
   "outputs": [],
   "source": [
    "x_train = pd.DataFrame(x_train)\n",
    "x_test = pd.DataFrame(x_test)"
   ]
  },
  {
   "cell_type": "markdown",
   "id": "41d8fb5f",
   "metadata": {},
   "source": [
    "### 4. Perform PCA"
   ]
  },
  {
   "cell_type": "code",
   "execution_count": 6,
   "id": "4d45a46e",
   "metadata": {},
   "outputs": [],
   "source": [
    "from sklearn.decomposition import PCA\n",
    "\n",
    "pca=PCA(n_components=6)\n",
    "x_train=pca.fit_transform(x_train)\n",
    "x_test=pca.transform(x_test)"
   ]
  },
  {
   "cell_type": "code",
   "execution_count": 7,
   "id": "ad231160",
   "metadata": {},
   "outputs": [],
   "source": [
    "x_train = pd.DataFrame(x_train)\n",
    "x_test = pd.DataFrame(x_test)"
   ]
  },
  {
   "cell_type": "code",
   "execution_count": 8,
   "id": "5f29f270",
   "metadata": {},
   "outputs": [
    {
     "data": {
      "text/html": [
       "<div>\n",
       "<style scoped>\n",
       "    .dataframe tbody tr th:only-of-type {\n",
       "        vertical-align: middle;\n",
       "    }\n",
       "\n",
       "    .dataframe tbody tr th {\n",
       "        vertical-align: top;\n",
       "    }\n",
       "\n",
       "    .dataframe thead th {\n",
       "        text-align: right;\n",
       "    }\n",
       "</style>\n",
       "<table border=\"1\" class=\"dataframe\">\n",
       "  <thead>\n",
       "    <tr style=\"text-align: right;\">\n",
       "      <th></th>\n",
       "      <th>0</th>\n",
       "      <th>1</th>\n",
       "      <th>2</th>\n",
       "      <th>3</th>\n",
       "      <th>4</th>\n",
       "      <th>5</th>\n",
       "    </tr>\n",
       "  </thead>\n",
       "  <tbody>\n",
       "    <tr>\n",
       "      <th>0</th>\n",
       "      <td>-3.877202</td>\n",
       "      <td>-0.274480</td>\n",
       "      <td>0.343666</td>\n",
       "      <td>0.033464</td>\n",
       "      <td>-0.369898</td>\n",
       "      <td>-1.417197</td>\n",
       "    </tr>\n",
       "    <tr>\n",
       "      <th>1</th>\n",
       "      <td>2.224833</td>\n",
       "      <td>-2.362849</td>\n",
       "      <td>0.892236</td>\n",
       "      <td>-0.902976</td>\n",
       "      <td>0.037521</td>\n",
       "      <td>-0.051579</td>\n",
       "    </tr>\n",
       "    <tr>\n",
       "      <th>2</th>\n",
       "      <td>4.318918</td>\n",
       "      <td>-2.016585</td>\n",
       "      <td>-1.339730</td>\n",
       "      <td>0.337557</td>\n",
       "      <td>-1.380955</td>\n",
       "      <td>0.326597</td>\n",
       "    </tr>\n",
       "    <tr>\n",
       "      <th>3</th>\n",
       "      <td>-0.548462</td>\n",
       "      <td>1.936047</td>\n",
       "      <td>1.337350</td>\n",
       "      <td>-0.266552</td>\n",
       "      <td>-0.611463</td>\n",
       "      <td>0.199454</td>\n",
       "    </tr>\n",
       "    <tr>\n",
       "      <th>4</th>\n",
       "      <td>-1.168646</td>\n",
       "      <td>1.757168</td>\n",
       "      <td>0.980912</td>\n",
       "      <td>-0.404676</td>\n",
       "      <td>-0.742868</td>\n",
       "      <td>-0.063381</td>\n",
       "    </tr>\n",
       "  </tbody>\n",
       "</table>\n",
       "</div>"
      ],
      "text/plain": [
       "          0         1         2         3         4         5\n",
       "0 -3.877202 -0.274480  0.343666  0.033464 -0.369898 -1.417197\n",
       "1  2.224833 -2.362849  0.892236 -0.902976  0.037521 -0.051579\n",
       "2  4.318918 -2.016585 -1.339730  0.337557 -1.380955  0.326597\n",
       "3 -0.548462  1.936047  1.337350 -0.266552 -0.611463  0.199454\n",
       "4 -1.168646  1.757168  0.980912 -0.404676 -0.742868 -0.063381"
      ]
     },
     "execution_count": 8,
     "metadata": {},
     "output_type": "execute_result"
    }
   ],
   "source": [
    "x_train.head()"
   ]
  },
  {
   "cell_type": "markdown",
   "id": "5ceafb43",
   "metadata": {},
   "source": [
    "### 5. Explained variance ratio"
   ]
  },
  {
   "cell_type": "code",
   "execution_count": 12,
   "id": "f51bdb04",
   "metadata": {},
   "outputs": [
    {
     "name": "stdout",
     "output_type": "stream",
     "text": [
      "[0.35961954 0.19410313 0.11076406 0.07560809 0.06454902 0.05141589]\n"
     ]
    }
   ],
   "source": [
    "print(pca.explained_variance_ratio_)"
   ]
  },
  {
   "cell_type": "markdown",
   "id": "be328036",
   "metadata": {},
   "source": [
    "### 6. Find optimal number of principal components"
   ]
  },
  {
   "cell_type": "code",
   "execution_count": 10,
   "id": "b1e722fc",
   "metadata": {},
   "outputs": [],
   "source": [
    "# load the dataset and preprocess again\n",
    "df = pd.read_csv('wine.data', sep=',', header=None)\n",
    "\n",
    "y = df.pop(0)\n",
    "x = df\n",
    "\n",
    "x_train, x_test, y_train, y_test = train_test_split(x, y, test_size=0.1, random_state=24)\n",
    "\n",
    "scaler = StandardScaler()\n",
    "x_train = scaler.fit_transform(x_train)\n",
    "x_test = scaler.transform(x_test)\n",
    "x_train = pd.DataFrame(x_train)\n",
    "x_test = pd.DataFrame(x_test)"
   ]
  },
  {
   "cell_type": "code",
   "execution_count": 13,
   "id": "4320fc3d",
   "metadata": {},
   "outputs": [],
   "source": [
    "# write a function for finding optimal number of principal components\n",
    "def optimal_no_components(x_train):\n",
    "    \"\"\"\n",
    "    A function to determine the number of components that will capture over 90% variance ratio\n",
    "    \"\"\"\n",
    "    count=0\n",
    "    for i in range(1,12):\n",
    "        pca = PCA(n_components=i)\n",
    "        pca.fit_transform(x_train)\n",
    "        count+=1\n",
    "        if sum(pca.explained_variance_ratio_)>0.90:\n",
    "            break\n",
    "    return count"
   ]
  },
  {
   "cell_type": "code",
   "execution_count": 14,
   "id": "a997666d",
   "metadata": {},
   "outputs": [
    {
     "name": "stdout",
     "output_type": "stream",
     "text": [
      "The number of PCA components that will capture 90% variance ratio is: 8\n"
     ]
    }
   ],
   "source": [
    "optimal_number=optimal_no_components(x_train)\n",
    "print(f\"The number of PCA components that will capture 90% variance ratio is: {optimal_number}\")"
   ]
  },
  {
   "cell_type": "code",
   "execution_count": 15,
   "id": "0aebcb65",
   "metadata": {},
   "outputs": [],
   "source": [
    "#lets transform our data now\n",
    "pca = PCA(n_components=8)\n",
    "\n",
    "x_train = pd.DataFrame(pca.fit_transform(x_train))\n",
    "x_test = pd.DataFrame(pca.transform(x_test))"
   ]
  },
  {
   "cell_type": "code",
   "execution_count": 16,
   "id": "84cce94d",
   "metadata": {},
   "outputs": [
    {
     "name": "stdout",
     "output_type": "stream",
     "text": [
      "91.83458918125145\n"
     ]
    }
   ],
   "source": [
    "print(sum(pca.explained_variance_ratio_)*100)"
   ]
  },
  {
   "cell_type": "markdown",
   "id": "60a9e76a",
   "metadata": {},
   "source": [
    "### 7. Visualizing PCA results"
   ]
  },
  {
   "cell_type": "markdown",
   "id": "e7f5d838",
   "metadata": {},
   "source": [
    "Its not possible to visualize all the 8 dimensions of the transformed data but here's a scatter plot of the first two PCA components of x_train"
   ]
  },
  {
   "cell_type": "code",
   "execution_count": 17,
   "id": "2c84f128",
   "metadata": {},
   "outputs": [
    {
     "data": {
      "image/png": "[encoded data removed]",
      "text/plain": [
       "<Figure size 640x480 with 1 Axes>"
      ]
     },
     "metadata": {},
     "output_type": "display_data"
    }
   ],
   "source": [
    "import matplotlib.pyplot as plt\n",
    "\n",
    "plt.scatter(x_train.iloc[:, 0], x_train.iloc[:, 1], c='blue', label='train')\n",
    "plt.scatter(x_test.iloc[:, 0], x_test.iloc[:, 1], c='red', label='test')\n",
    "\n",
    "plt.xlabel('PCA Component 1')\n",
    "plt.ylabel('PCA Component 2')\n",
    "plt.legend()\n",
    "plt.show()"
   ]
  },
  {
   "cell_type": "markdown",
   "id": "b99f3179",
   "metadata": {},
   "source": [
    "### 8. Perform clustering on the transformed data"
   ]
  },
  {
   "cell_type": "code",
   "execution_count": 18,
   "id": "2689cfc5",
   "metadata": {},
   "outputs": [
    {
     "name": "stderr",
     "output_type": "stream",
     "text": [
      "C:\\Users\\ASUS\\anaconda3\\lib\\site-packages\\sklearn\\cluster\\_kmeans.py:1332: UserWarning: KMeans is known to have a memory leak on Windows with MKL, when there are less chunks than available threads. You can avoid it by setting the environment variable OMP_NUM_THREADS=1.\n",
      "  warnings.warn(\n"
     ]
    }
   ],
   "source": [
    "from sklearn.cluster import KMeans\n",
    "kmeans=KMeans(n_clusters=3)\n",
    "kmeans.fit(x_train)\n",
    "train_labels=kmeans.labels_\n",
    "\n",
    "#get the cluster labels for the test data\n",
    "test_labels = kmeans.predict(x_test)"
   ]
  },
  {
   "cell_type": "code",
   "execution_count": 19,
   "id": "1a5169e1",
   "metadata": {},
   "outputs": [
    {
     "data": {
      "text/plain": [
       "array([2, 1, 1, 0, 0, 1, 0, 1, 1, 1, 0, 0, 2, 2, 1, 2, 0, 1, 1, 1, 0, 1,\n",
       "       1, 2, 2, 1, 0, 0, 2, 0, 2, 1, 2, 0, 1, 0, 0, 2, 0, 1, 2, 1, 0, 1,\n",
       "       0, 2, 2, 2, 0, 2, 1, 1, 1, 0, 0, 0, 1, 1, 0, 1, 0, 2, 0, 0, 2, 1,\n",
       "       1, 2, 1, 1, 1, 1, 0, 2, 1, 2, 0, 0, 1, 0, 1, 2, 0, 0, 1, 1, 2, 2,\n",
       "       0, 0, 0, 2, 1, 1, 0, 2, 2, 1, 0, 2, 0, 0, 0, 1, 0, 0, 0, 1, 0, 2,\n",
       "       0, 1, 0, 2, 0, 2, 0, 2, 1, 1, 1, 1, 2, 2, 1, 2, 1, 0, 2, 0, 1, 2,\n",
       "       0, 0, 1, 0, 2, 1, 1, 0, 1, 2, 2, 0, 1, 1, 2, 0, 2, 2, 0, 1, 0, 0,\n",
       "       0, 2, 2, 0, 2, 2])"
      ]
     },
     "execution_count": 19,
     "metadata": {},
     "output_type": "execute_result"
    }
   ],
   "source": [
    "train_labels"
   ]
  },
  {
   "cell_type": "code",
   "execution_count": 20,
   "id": "9bfe7f4d",
   "metadata": {},
   "outputs": [
    {
     "data": {
      "text/plain": [
       "array([0, 2, 0, 0, 2, 1, 1, 0, 1, 1, 0, 1, 1, 2, 1, 2, 2, 0])"
      ]
     },
     "execution_count": 20,
     "metadata": {},
     "output_type": "execute_result"
    }
   ],
   "source": [
    "test_labels"
   ]
  },
  {
   "cell_type": "code",
   "execution_count": 21,
   "id": "71d51529",
   "metadata": {},
   "outputs": [
    {
     "data": {
      "image/png": "[encoded data removed]",
      "text/plain": [
       "<Figure size 640x480 with 1 Axes>"
      ]
     },
     "metadata": {},
     "output_type": "display_data"
    }
   ],
   "source": [
    "import matplotlib.pyplot as plt\n",
    "\n",
    "#create a scatter plot of the first two principal components of the test data, colored by cluster label\n",
    "plt.scatter(x_test.iloc[:, 0], x_test.iloc[:, 1], c=test_labels)\n",
    "plt.title('Test Data Clusters')\n",
    "plt.xlabel('PC1')\n",
    "plt.ylabel('PC2')\n",
    "plt.show()"
   ]
  },
  {
   "cell_type": "markdown",
   "id": "17aa9bfa",
   "metadata": {},
   "source": [
    "### 9. Interpreting the clusters"
   ]
  },
  {
   "cell_type": "markdown",
   "id": "64f73956",
   "metadata": {},
   "source": [
    "As we can see in the grapth the points that are closer to each other have been grouped together into a single cluster. There are total of 3 clusters because we set n_clusters=3 while instantating the kmeans object."
   ]
  }
 ],
 "metadata": {
  "kernelspec": {
   "display_name": "Python 3 (ipykernel)",
   "language": "python",
   "name": "python3"
  },
  "language_info": {
   "codemirror_mode": {
    "name": "ipython",
    "version": 3
   },
   "file_extension": ".py",
   "mimetype": "text/x-python",
   "name": "python",
   "nbconvert_exporter": "python",
   "pygments_lexer": "ipython3",
   "version": "3.9.12"
  }
 },
 "nbformat": 4,
 "nbformat_minor": 5
}
