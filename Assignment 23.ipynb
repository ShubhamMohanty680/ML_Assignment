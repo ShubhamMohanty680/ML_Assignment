{
 "cells": [
  {
   "cell_type": "markdown",
   "id": "83890f6b",
   "metadata": {},
   "source": [
    "# Q.1"
   ]
  },
  {
   "cell_type": "markdown",
   "id": "e851c034",
   "metadata": {},
   "source": [
    "In the context of predicting house prices, RMSE is a more suitable metric to use as it provides an interpretable measure of the average error in dollars. This is particularly important because the goal is to predict house prices accurately, and RMSE provides an intuitive understanding of how well the model is performing in that respect.\n",
    "\n",
    "Another useful metric for regression problems is R-squared, which measures the proportion of the variance in the target variable that is explained by the model. However, in the case of SVM regression, where the model is optimized for minimizing the error, RMSE is more commonly used."
   ]
  },
  {
   "cell_type": "markdown",
   "id": "8bcbf177",
   "metadata": {},
   "source": [
    "# Q.2"
   ]
  },
  {
   "cell_type": "markdown",
   "id": "a21030c2",
   "metadata": {},
   "source": [
    "If your goal is to predict the actual price of a house as accurately as possible, then Mean Squared Error (MSE) would be the more appropriate evaluation metric to use.\n",
    "\n",
    "MSE measures the average squared difference between the predicted values and the actual values. In the context of predicting house prices, MSE provides an intuitive understanding of how far the predictions are, on average, from the actual prices in terms of dollars squared. This is important because the goal is to minimize the error in predicting house prices as much as possible.\n",
    "\n",
    "On the other hand, R-squared measures the proportion of the variance in the target variable that is explained by the model. While R-squared can be a useful metric for understanding how well the model fits the data, it is not as directly related to the accuracy of individual predictions as MSE."
   ]
  },
  {
   "cell_type": "markdown",
   "id": "bd251c79",
   "metadata": {},
   "source": [
    "# Q.3"
   ]
  },
  {
   "cell_type": "markdown",
   "id": "b7a1f62b",
   "metadata": {},
   "source": [
    "When dealing with a dataset that contains a significant number of outliers, Mean Absolute Error (MAE) is a more appropriate metric to use with an SVM regression model than Mean Squared Error (MSE).\n",
    "\n",
    "The reason for this is that MSE is more sensitive to outliers since it squares the errors, making the contribution of large errors to the overall error much larger than that of smaller errors. On the other hand, MAE measures the absolute difference between the predicted values and the actual values, and is therefore less sensitive to outliers.\n",
    "\n",
    "Using MAE as the evaluation metric for the SVM regression model would ensure that the model is evaluated based on its performance in predicting the actual price of the house, regardless of any outliers that may be present in the dataset."
   ]
  },
  {
   "cell_type": "markdown",
   "id": "f07bd466",
   "metadata": {},
   "source": [
    "# Q.4"
   ]
  },
  {
   "cell_type": "markdown",
   "id": "6dd8bdbc",
   "metadata": {},
   "source": [
    "When evaluating the performance of an SVM regression model that uses a polynomial kernel, if the values of Mean Squared Error (MSE) and Root Mean Squared Error (RMSE) are very close, then Root Mean Squared Error (RMSE) should be used as the evaluation metric.\n",
    "\n",
    "The reason for this is that RMSE is more interpretable since it is expressed in the same units as the target variable. In the case of predicting house prices, RMSE would be expressed in dollars, which makes it easier to understand how well the model is performing in terms of its predictive accuracy.\n",
    "\n",
    "Additionally, RMSE is less sensitive to the scale of the target variable than MSE. This means that even if the scale of the target variable changes, the RMSE values would still be comparable across different models.\n",
    "\n",
    "Therefore, in the scenario where MSE and RMSE are very close for an SVM regression model with a polynomial kernel, using RMSE as the evaluation metric would be the better choice.|"
   ]
  },
  {
   "cell_type": "markdown",
   "id": "8372b08f",
   "metadata": {},
   "source": [
    "# Q.5"
   ]
  },
  {
   "cell_type": "markdown",
   "id": "9bfd3895",
   "metadata": {},
   "source": [
    "When comparing the performance of different SVM regression models using different kernels, if the goal is to measure how well the model explains the variance in the target variable, then R-squared (R2) would be the most appropriate evaluation metric to use.\n",
    "\n",
    "R-squared measures the proportion of the variance in the target variable that is explained by the model. A higher R-squared value indicates that the model is explaining more of the variance in the target variable and is therefore a better fit for the data.\n",
    "\n",
    "Since the goal is to measure how well the model explains the variance in the target variable, R-squared would provide an intuitive understanding of how well each model is performing in that respect. It would also allow for easy comparison between the different SVM regression models, regardless of the kernel used.\n",
    "\n",
    "Therefore, R-squared would be the most appropriate evaluation metric to use when comparing the performance of different SVM regression models using different kernels, with the goal of measuring how well the model explains the variance in the target variable."
   ]
  }
 ],
 "metadata": {
  "kernelspec": {
   "display_name": "Python 3 (ipykernel)",
   "language": "python",
   "name": "python3"
  },
  "language_info": {
   "codemirror_mode": {
    "name": "ipython",
    "version": 3
   },
   "file_extension": ".py",
   "mimetype": "text/x-python",
   "name": "python",
   "nbconvert_exporter": "python",
   "pygments_lexer": "ipython3",
   "version": "3.9.12"
  }
 },
 "nbformat": 4,
 "nbformat_minor": 5
}
