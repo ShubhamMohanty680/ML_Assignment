{
 "cells": [
  {
   "cell_type": "markdown",
   "id": "9cfb8a0d",
   "metadata": {},
   "source": [
    "# Q.1"
   ]
  },
  {
   "cell_type": "markdown",
   "id": "f1b581d8",
   "metadata": {},
   "source": [
    "1. Artificial Intelligence(AI) can be defined as the ability of computer to solve complex problems by application of processes that are analogous to human reasoning process. It can perform tasks that typically require human intelligence, such as understanding natural language, recognizing speech and images, and making decisions.\n",
    "\n",
    "   Example: Self-driving Cars,Google assistant\n",
    "\n",
    "\n",
    "2. Machine Learning (ML) is a subset of AI that uses statistical techniques to enable computer systems to improve their performance on a specific task by learning from data without being explicitly programmed.  Machine learning algorithms can recognize patterns in data and use those patterns to make predictions or decisions.\n",
    "\n",
    "    Example: Spam detection\n",
    "    \n",
    "\n",
    "3. Deep Learning (DL) is a subset of machine learning that uses neural networks to model and solve complex problems. Deep learning algorithms use multiple layers of interconnected nodes to process and learn from data. Deep learning is capable of learning from unstructured data such as images, videos, and audio.\n",
    "\n",
    "    Example: Object Detection"
   ]
  },
  {
   "cell_type": "markdown",
   "id": "df153b9b",
   "metadata": {},
   "source": [
    "# Q.2"
   ]
  },
  {
   "cell_type": "markdown",
   "id": "704538b6",
   "metadata": {},
   "source": [
    "Supervised learning is a type of machine learning in which a model is trained on a labeled dataset. In supervised learning, the model learns to map input features to the correct output by using the labeled examples provided in the training set. The objective of the model is to predict the correct output for new, unseen input examples.\n",
    "\n",
    "Examples of supervised learning\n",
    "\n",
    "1. Image classification: The task of identifying the content of an image, such as distinguishing between images of cats and dogs.\n",
    "2. Spam detection: The task of classifying emails as either spam or not spam based on their content.\n",
    "3. Sentiment analysis: The task of classifying text as either positive, negative, or neutral based on the sentiment expressed in the text.\n",
    "4. Fraud detection: The task of identifying fraudulent transactions based on historical data."
   ]
  },
  {
   "cell_type": "markdown",
   "id": "19dfbe83",
   "metadata": {},
   "source": [
    "# Q.3"
   ]
  },
  {
   "cell_type": "markdown",
   "id": "5de756ed",
   "metadata": {},
   "source": [
    "Unsupervised learning is a type of machine learning in which a model is trained on an unlabeled dataset. In unsupervised learning, the model is not provided with any specific output or label to predict, but rather learns to identify patterns and relationships in the input data. The objective of unsupervised learning is often to discover the underlying structure or clusters in the data.\n",
    "\n",
    "Examples of unsupervised learning:\n",
    "\n",
    "1. Clustering: The task of grouping similar examples together based on their characteristics. This can be used for customer segmentation, image segmentation, or anomaly detection.\n",
    "2. Dimensionality reduction: The task of reducing the number of features in a dataset while retaining as much of the relevant information as possible. This can be used for visualizing high-dimensional data, speeding up training of supervised learning models, or data compression.\n",
    "3. Association rule mining: The task of discovering interesting relationships between items in a dataset. This can be used for market basket analysis or recommendation systems."
   ]
  },
  {
   "cell_type": "markdown",
   "id": "3514533e",
   "metadata": {},
   "source": [
    "# Q.4"
   ]
  },
  {
   "cell_type": "markdown",
   "id": "b562844b",
   "metadata": {},
   "source": [
    "Artificial Intelligence (AI) refers to the development of computer systems that can perform tasks that typically require human intelligence, such as natural language processing, computer vision, and decision making. AI can be achieved through various approaches, including rule-based systems, expert systems, and machine learning.\n",
    "\n",
    "Machine Learning (ML) is a subset of AI that involves the development of algorithms and statistical models that enable computer systems to improve their performance on a specific task by learning from data without being explicitly programmed. ML can be supervised, unsupervised, or semi-supervised.\n",
    "\n",
    "Deep Learning (DL) is a subfield of ML that involves the use of artificial neural networks, which are modeled after the structure and function of the human brain. DL is particularly suited for tasks such as image and speech recognition, natural language processing, and autonomous driving.\n",
    "\n",
    "Data Science (DS) is a multidisciplinary field that involves the use of statistical and computational methods to extract insights and knowledge from data. DS combines elements of statistics, mathematics, computer science, and domain expertise to address complex data-driven problems and make data-driven decisions."
   ]
  },
  {
   "cell_type": "markdown",
   "id": "f9758315",
   "metadata": {},
   "source": [
    "# Q.5"
   ]
  },
  {
   "cell_type": "markdown",
   "id": "a485c75e",
   "metadata": {},
   "source": [
    "Supervised learning: In supervised learning, the model is trained on labeled data, where the input and output pairs are known. The objective of the model is to learn a mapping between input features and the corresponding output. The labeled data is used to train the model, and the model is then tested on new, unseen data. The goal of supervised learning is to make accurate predictions on new, unseen data.\n",
    "\n",
    "Unsupervised learning: In unsupervised learning, the model is trained on unlabeled data, where the input data has no corresponding output. The objective of the model is to identify patterns or structure in the input data. Unsupervised learning can be used for tasks such as clustering, dimensionality reduction, and anomaly detection. The goal of unsupervised learning is to gain insights into the data and discover interesting relationships or anomalies that can be further explored or used for decision-making.\n",
    "\n",
    "Semi-supervised learning: In semi-supervised learning, the model is trained on a combination of labeled and unlabeled data. The labeled data is used to guide the learning process, while the unlabeled data is used to improve the generalization performance of the model. Semi-supervised learning can be useful when labeled data is scarce or expensive to obtain. The goal of semi-supervised learning is to make accurate predictions on new, unseen data while using as much of the available data as possible."
   ]
  },
  {
   "cell_type": "markdown",
   "id": "5c1a3f3e",
   "metadata": {},
   "source": [
    "# Q.6"
   ]
  },
  {
   "cell_type": "markdown",
   "id": "f98a988e",
   "metadata": {},
   "source": [
    "1. Train set: This is the part of the dataset used to train the model. The model learns the patterns and relationships in the data through this set. Typically, the train set consists of 60-80% of the entire dataset. The train set is important because it is used to teach the model how to make accurate predictions on new, unseen data. The model learns the patterns and relationships in the data through this set.\n",
    "\n",
    "\n",
    "2. Test set: This is the part of the dataset used to evaluate the performance of the trained model on unseen data. The model is applied to the test set, and the resulting predictions are compared to the true values to evaluate the accuracy of the model. Typically, the test set consists of 20-40% of the entire dataset. The test set is important because it is used to evaluate the performance of the trained model on unseen data. This helps to ensure that the model can make accurate predictions on new data and is not overfitting the training data.\n",
    "\n",
    "\n",
    "3. Validation set: This is an optional part of the dataset used to fine-tune the model hyperparameters and prevent overfitting. The validation set is used to evaluate the performance of the model on data that is not used for training or testing. This helps to prevent the model from becoming too complex and overfitting the training data. Typically, the validation set consists of 10-20% of the entire dataset. The validation set is important because it is used to fine-tune the model hyperparameters and prevent overfitting. By evaluating the performance of the model on data that is not used for training or testing, we can ensure that the model is not becoming too complex and overfitting the training data."
   ]
  },
  {
   "cell_type": "markdown",
   "id": "f01f5b2d",
   "metadata": {},
   "source": [
    "# Q.7"
   ]
  },
  {
   "cell_type": "markdown",
   "id": "86ab1079",
   "metadata": {},
   "source": [
    "Unsupervised learning can be used for anomaly detection by identifying patterns and structures in the data that deviate from the normal. Anomaly detection is the process of identifying data points that are significantly different from the majority of the data, and it is an important problem in many fields, including finance, healthcare, and cybersecurity.\n",
    "\n",
    "Unsupervised learning algorithms do not rely on labeled data, so they can be used to detect anomalies in datasets where there are no pre-defined classes or labels for the anomalies. Clustering, density estimation, dimensionality reduction, and one-class classification are common unsupervised learning techniques used for anomaly detection. By identifying anomalies in the data, we can detect abnormal behavior or events that require further investigation.\n",
    "\n",
    "For example, clustering algorithms can be used to group similar data points together and identify anomalies as data points that do not belong to any cluster or belong to a very small cluster. Density estimation algorithms can be used to estimate the probability distribution of the data and identify anomalies as data points with low probability. Dimensionality reduction algorithms can be used to reduce the number of features in the data while preserving the most important information, and identify anomalies as data points that are far away from the majority of the data in the reduced space. By detecting anomalies in the data, we can identify abnormal behavior or events that require further investigation."
   ]
  },
  {
   "cell_type": "markdown",
   "id": "9aeb951d",
   "metadata": {},
   "source": [
    "# Q.8"
   ]
  },
  {
   "cell_type": "markdown",
   "id": "8b8f0677",
   "metadata": {},
   "source": [
    "Supervised Learning Algorithms:\n",
    "\n",
    "- Linear Regression\n",
    "- Logistic Regression\n",
    "- Decision Trees\n",
    "- Random Forest\n",
    "- Support Vector Machines (SVM)\n",
    "- K-Nearest Neighbors (KNN)\n",
    "- Naive Bayes\n",
    "\n",
    "\n",
    "Unsupervised Learning Algorithms:\n",
    "\n",
    "- K-Means Clustering\n",
    "- Hierarchical Clustering\n",
    "- Density-Based Spatial Clustering of Applications with Noise (DBSCAN)\n",
    "- Principal Component Analysis (PCA)"
   ]
  },
  {
   "cell_type": "code",
   "execution_count": null,
   "id": "98b4d79d",
   "metadata": {},
   "outputs": [],
   "source": []
  }
 ],
 "metadata": {
  "kernelspec": {
   "display_name": "Python 3 (ipykernel)",
   "language": "python",
   "name": "python3"
  },
  "language_info": {
   "codemirror_mode": {
    "name": "ipython",
    "version": 3
   },
   "file_extension": ".py",
   "mimetype": "text/x-python",
   "name": "python",
   "nbconvert_exporter": "python",
   "pygments_lexer": "ipython3",
   "version": "3.9.12"
  }
 },
 "nbformat": 4,
 "nbformat_minor": 5
}
