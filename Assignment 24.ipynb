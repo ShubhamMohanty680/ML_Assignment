{
 "cells": [
  {
   "cell_type": "markdown",
   "id": "6da87065",
   "metadata": {},
   "source": [
    "# Q.1"
   ]
  },
  {
   "cell_type": "markdown",
   "id": "220bb530",
   "metadata": {},
   "source": [
    "Bayes’ theorem describes the probability of occurrence of an event related to any condition. It is also considered for the case of conditional probability.\n",
    "\n",
    "It states that the conditional probability of an event, based on the occurrence of another event, is equal to the likelihood of the second event given the first event multiplied by the probability of the first event.\n",
    "\n",
    "Bayes' theorem has applications in various fields, including statistics, machine learning, artificial intelligence, medical diagnosis, spam filtering, and many others. It allows us to make more informed decisions by incorporating new evidence into our existing knowledge."
   ]
  },
  {
   "cell_type": "markdown",
   "id": "9bbed21a",
   "metadata": {},
   "source": [
    "# Q.2"
   ]
  },
  {
   "cell_type": "markdown",
   "id": "6ec77eac",
   "metadata": {},
   "source": [
    "The formula for Bayes' theorem is:\n",
    "\n",
    "**P(A|B) = P(B|A) * P(A) / P(B)**\n",
    "\n",
    "where \n",
    "\n",
    "P(A/B)=Probablity of Event A given that B has already occured  \n",
    "P(A)=Probablity of Event A  \n",
    "P(B)=Probablity of Event B  \n",
    "P(B/A)=Probablity of B given that A has already occured"
   ]
  },
  {
   "cell_type": "markdown",
   "id": "d6780b86",
   "metadata": {},
   "source": [
    "# Q.3"
   ]
  },
  {
   "cell_type": "markdown",
   "id": "e36d04f5",
   "metadata": {},
   "source": [
    "Bayes' theorem is used in practice in a wide range of fields, including statistics, machine learning, artificial intelligence, and decision-making. Also, Bayes' theorem is used in some other applications, which are given below:\n",
    "\n",
    "1. **Medical diagnosis:** In medicine, Bayes' theorem can be used to calculate the probability of a patient having a disease given their symptoms and other medical information. Doctors can use this information to make more informed decisions about diagnosis and treatment.\n",
    "2. **Spam filtering:** Bayes' theorem is used in spam filtering algorithms to calculate the probability that an email is spam given its contents. This helps email providers identify and filter out unwanted messages.\n",
    "3. **Predictive modeling:** In machine learning, Bayes' theorem is used to build predictive models that can make accurate predictions based on past data. This can be useful in a wide range of applications, from stock market forecasting to weather prediction.\n",
    "4. **A/B testing:** Bayes' theorem is used in A/B testing to determine the probability that one version of a product or service is better than another based on user behavior. This helps businesses optimize their offerings and improve customer satisfaction.\n",
    "5. **Decision-making:** Bayes' theorem can be used to make decisions in uncertain situations by calculating the expected value of different options. This approach is often used in game theory, finance, and other fields where decision-making under uncertainty is important."
   ]
  },
  {
   "cell_type": "markdown",
   "id": "aba4f6fd",
   "metadata": {},
   "source": [
    "# Q.4"
   ]
  },
  {
   "cell_type": "markdown",
   "id": "a2e461c0",
   "metadata": {},
   "source": [
    "Bayes' theorem is a mathematical formula that describes the relationship between conditional probabilities. In fact, Bayes' theorem can be derived from the definition of conditional probability.\n",
    "\n",
    "Conditional probability is the probability of an event states that another event has already occurred. For example, the probability of rolling a six on a die given that the die has already been rolled is a conditional probability. Denoted as P(A|B), where A and B are events, it's stated as \"Probability of A given B.\"\n",
    "\n",
    "Bayes' theorem provides a way to calculate the conditional probability of one event given another event and some prior information. It allows us to update our prior beliefs about the probability of an event occurring based on new evidence.\n",
    "\n",
    "The formula for Bayes' theorem involves multiplying the likelihood of the observed evidence given the hypothesis by the prior probability of the hypothesis and dividing by the marginal probability of the evidence. In this way, Bayes' theorem combines prior beliefs with new evidence to calculate a revised probability of a hypothesis being true.\n",
    "\n",
    "So, in summary, Bayes' theorem and conditional probability are related because Bayes' theorem provides a way to calculate conditional probabilities based on prior information and new evidence."
   ]
  },
  {
   "cell_type": "markdown",
   "id": "c5bb752f",
   "metadata": {},
   "source": [
    "# Q.5"
   ]
  },
  {
   "cell_type": "markdown",
   "id": "5de84470",
   "metadata": {},
   "source": [
    "The Naive Bayes classifier is a simple and effective machine learning algorithm that is used for a wide range of applications such as text classification, spam filtering, sentiment analysis, and more. There are three types of Naive Bayes classifiers: Gaussian Naive Bayes, Multinomial Naive Bayes, and Bernoulli Naive Bayes. The choice of which Naive Bayes classifier to use for a given problem depends on the nature of the data and the problem at hand. Here are some guidelines to help you choose the appropriate type of Naive Bayes classifier:\n",
    "\n",
    "1. **Gaussian Naive Bayes:** This type of classifier is used when the features are continuous variables that follow a Gaussian distribution. It is often used for problems such as image classification and spam filtering, where the features are numeric values.\n",
    "2. **Multinomial Naive Bayes:** This type of classifier is used when the features are discrete variables such as word counts in text classification problems. It is often used in natural language processing applications, such as sentiment analysis and text classification.\n",
    "3. **Bernoulli Naive Bayes:** This type of classifier is similar to the Multinomial Naive Bayes classifier, but it is used for solving some text classification problems when the features are binary variables such as the presence or absence of a particular word in a document."
   ]
  },
  {
   "cell_type": "markdown",
   "id": "e5651dd6",
   "metadata": {},
   "source": [
    "# Q.6"
   ]
  },
  {
   "cell_type": "markdown",
   "id": "c7079d21",
   "metadata": {},
   "source": [
    "To predict the class of a new instance with features X1 = 3 and X2 = 4 using Naive Bayes, we need to calculate the posterior probabilities of the instance belonging to each class, given the observed feature values. We can use the Naive Bayes formula:\n",
    "\n",
    "P(class|X1=3,X2=4) = P(X1=3,X2=4|class) * P(class) / P(X1=3,X2=4)\n",
    "\n",
    "where P(X1=3,X2=4|class) is the likelihood of observing the feature values given the class, P(class) is the prior probability of the class, and P(X1=3,X2=4) is the marginal probability of observing the feature values.\n",
    "\n",
    "To calculate the likelihood of observing the feature values for each class, we can count the number of times each feature value occurs in the training data for each class and compute the corresponding probabilities:\n",
    "\n",
    "P(X1=3|A) = 4/7, P(X2=4|A) = 3/7, P(X1=3|B) = 0/7, P(X2=4|B) = 1/7\n",
    "\n",
    "Using these values, we can calculate the posterior probabilities of the new instance belonging to each class, given the observed feature values:\n",
    "\n",
    "P(A|X1=3,X2=4) = P(X1=3,X2=4|A) * P(A) / P(X1=3,X2=4) = (4/7) * (1/2) / ((4/7)(1/2) + (0/7)(1/2)) = 1\n",
    "P(B|X1=3,X2=4) = P(X1=3,X2=4|B) * P(B) / P(X1=3,X2=4) = (0/7) * (1/2) / ((4/7)(1/2) + (0/7)(1/2)) = 0\n",
    "\n",
    "Therefore, Naive Bayes would predict that the new instance belongs to class A."
   ]
  }
 ],
 "metadata": {
  "kernelspec": {
   "display_name": "Python 3 (ipykernel)",
   "language": "python",
   "name": "python3"
  },
  "language_info": {
   "codemirror_mode": {
    "name": "ipython",
    "version": 3
   },
   "file_extension": ".py",
   "mimetype": "text/x-python",
   "name": "python",
   "nbconvert_exporter": "python",
   "pygments_lexer": "ipython3",
   "version": "3.9.12"
  }
 },
 "nbformat": 4,
 "nbformat_minor": 5
}
